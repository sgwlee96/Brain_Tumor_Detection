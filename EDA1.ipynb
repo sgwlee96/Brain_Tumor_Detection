{
 "cells": [
  {
   "cell_type": "code",
   "execution_count": 26,
   "metadata": {},
   "outputs": [],
   "source": [
    "from src.utils import show_image\n",
    "import cv2\n",
    "import matplotlib.pyplot as plt\n",
    "import os\n"
   ]
  },
  {
   "cell_type": "markdown",
   "metadata": {},
   "source": [
    "## Review Data"
   ]
  },
  {
   "cell_type": "code",
   "execution_count": 6,
   "metadata": {},
   "outputs": [],
   "source": [
    "# base root path of brain tumor image dataset\n",
    "dataPath = \"../Brain_Tumor_Detection/brain_tumor_dataset/\""
   ]
  },
  {
   "cell_type": "code",
   "execution_count": 23,
   "metadata": {},
   "outputs": [
    {
     "name": "stdout",
     "output_type": "stream",
     "text": [
      "Number of Brain Tumor images for positive respones: 155\n",
      "Percentage:  61.3%\n",
      "Number of Brain Tumor images for negative respones: 98\n",
      "Percentage:  38.7%\n"
     ]
    }
   ],
   "source": [
    "tumor_positive_imgs = dataPath + \"yes/\"\n",
    "tumor_negative_imgs = dataPath + \"no/\"\n",
    "\n",
    "# check the number of imgs\n",
    "pov_files = os.listdir(tumor_positive_imgs)\n",
    "print(f\"Number of Brain Tumor images for positive respones: {len(pov_files)}\")\n",
    "print(f\"Percentage:  {round(len(pov_files)/(len(pov_files) + len(neg_files)), 3)*100}%\")\n",
    "\n",
    "neg_files = os.listdir(tumor_negative_imgs)\n",
    "print(f\"Number of Brain Tumor images for negative respones: {len(neg_files)}\")\n",
    "print(f\"Percentage:  {round(len(neg_files)/(len(pov_files) + len(neg_files)), 3)*100}%\")"
   ]
  },
  {
   "cell_type": "markdown",
   "metadata": {},
   "source": [
    "Rate between postivie imgs and negative imgs shows that the dataset is imbalanced."
   ]
  },
  {
   "cell_type": "code",
   "execution_count": 30,
   "metadata": {},
   "outputs": [
    {
     "ename": "NameError",
     "evalue": "name 'os' is not defined",
     "output_type": "error",
     "traceback": [
      "\u001b[0;31m---------------------------------------------------------------------------\u001b[0m",
      "\u001b[0;31mNameError\u001b[0m                                 Traceback (most recent call last)",
      "Cell \u001b[0;32mIn[30], line 2\u001b[0m\n\u001b[1;32m      1\u001b[0m \u001b[38;5;28;01mfrom\u001b[39;00m \u001b[38;5;21;01msrc\u001b[39;00m\u001b[38;5;21;01m.\u001b[39;00m\u001b[38;5;21;01mutils\u001b[39;00m \u001b[38;5;28;01mimport\u001b[39;00m show_image\n\u001b[0;32m----> 2\u001b[0m show_image(tumor_positive_imgs, \u001b[38;5;241m9\u001b[39m)\n",
      "File \u001b[0;32m~/Documents/Brain_Tumor_Detection/Brain_Tumor_Detection/src/utils.py:9\u001b[0m, in \u001b[0;36mshow_image\u001b[0;34m(directory_path, num_images)\u001b[0m\n\u001b[1;32m      1\u001b[0m \u001b[38;5;28;01mdef\u001b[39;00m \u001b[38;5;21mshow_image\u001b[39m(directory_path, num_images\u001b[38;5;241m=\u001b[39m\u001b[38;5;241m9\u001b[39m):\n\u001b[1;32m      2\u001b[0m \u001b[38;5;250m    \u001b[39m\u001b[38;5;124;03m\"\"\"\u001b[39;00m\n\u001b[1;32m      3\u001b[0m \u001b[38;5;124;03m    Display multiple images from a directory in a single figure\u001b[39;00m\n\u001b[1;32m      4\u001b[0m \u001b[38;5;124;03m    \u001b[39;00m\n\u001b[0;32m   (...)\u001b[0m\n\u001b[1;32m      7\u001b[0m \u001b[38;5;124;03m    - num_images (int) : number of images to display. Base 9\u001b[39;00m\n\u001b[1;32m      8\u001b[0m \u001b[38;5;124;03m    \"\"\"\u001b[39;00m\n\u001b[0;32m----> 9\u001b[0m     files \u001b[38;5;241m=\u001b[39m os\u001b[38;5;241m.\u001b[39mlistdir(directory_path)\n\u001b[1;32m     10\u001b[0m     plt\u001b[38;5;241m.\u001b[39mfigure(figsize\u001b[38;5;241m=\u001b[39m(\u001b[38;5;241m12\u001b[39m, \u001b[38;5;241m8\u001b[39m))\n\u001b[1;32m     12\u001b[0m     num_images_read \u001b[38;5;241m=\u001b[39m \u001b[38;5;241m0\u001b[39m\n",
      "\u001b[0;31mNameError\u001b[0m: name 'os' is not defined"
     ]
    }
   ],
   "source": [
    "from src.utils import show_image\n",
    "show_image(tumor_positive_imgs, 9)"
   ]
  },
  {
   "cell_type": "code",
   "execution_count": null,
   "metadata": {},
   "outputs": [],
   "source": []
  }
 ],
 "metadata": {
  "kernelspec": {
   "display_name": "base",
   "language": "python",
   "name": "python3"
  },
  "language_info": {
   "codemirror_mode": {
    "name": "ipython",
    "version": 3
   },
   "file_extension": ".py",
   "mimetype": "text/x-python",
   "name": "python",
   "nbconvert_exporter": "python",
   "pygments_lexer": "ipython3",
   "version": "3.11.5"
  }
 },
 "nbformat": 4,
 "nbformat_minor": 2
}
